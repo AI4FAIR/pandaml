{
 "cells": [
  {
   "cell_type": "markdown",
   "metadata": {},
   "source": [
    "## _PandaML_\n",
    "- Perform detailed _Exploratory Data Analysis (EDA)_ on STT Data.\n",
    "- Use `DASK` instead of `Pandas` to load CSVs at once."
   ]
  },
  {
   "cell_type": "code",
   "execution_count": 1,
   "metadata": {},
   "outputs": [],
   "source": [
    "import sys, os, glob, yaml"
   ]
  },
  {
   "cell_type": "code",
   "execution_count": 2,
   "metadata": {},
   "outputs": [],
   "source": [
    "import math\n",
    "import random\n",
    "import numpy as np\n",
    "import pandas as pd\n",
    "\n",
    "import matplotlib.pyplot as plt\n",
    "%matplotlib inline"
   ]
  },
  {
   "cell_type": "code",
   "execution_count": 3,
   "metadata": {},
   "outputs": [],
   "source": [
    "import trackml.dataset\n",
    "import seaborn as sns"
   ]
  },
  {
   "cell_type": "code",
   "execution_count": 4,
   "metadata": {},
   "outputs": [],
   "source": [
    "sys.path.append('src')"
   ]
  },
  {
   "cell_type": "code",
   "execution_count": 5,
   "metadata": {},
   "outputs": [],
   "source": [
    "from src.utils_data import dask_events"
   ]
  },
  {
   "cell_type": "markdown",
   "metadata": {},
   "source": [
    "### _Dataset_"
   ]
  },
  {
   "cell_type": "code",
   "execution_count": 6,
   "metadata": {},
   "outputs": [],
   "source": [
    "input_dir = './data_sets/ctd2022p/data_10K/'"
   ]
  },
  {
   "cell_type": "code",
   "execution_count": 7,
   "metadata": {},
   "outputs": [],
   "source": [
    "# Get List of all Files\n",
    "all_files = os.listdir(input_dir)\n",
    "\n",
    "# Extract File Prefixes (use e.g. xxx-hits.csv)\n",
    "file_prefixes = sorted(os.path.join(input_dir, f.replace('-hits.csv', '')) for f in all_files if f.endswith('-hits.csv'))"
   ]
  },
  {
   "cell_type": "code",
   "execution_count": 8,
   "metadata": {},
   "outputs": [],
   "source": [
    "# load an event\n",
    "# hits, tubes, particles, truth = trackml.dataset.load_event(file_prefixes[0])"
   ]
  },
  {
   "cell_type": "code",
   "execution_count": 9,
   "metadata": {},
   "outputs": [],
   "source": [
    "# tubes.head()"
   ]
  },
  {
   "cell_type": "code",
   "execution_count": 10,
   "metadata": {},
   "outputs": [],
   "source": [
    "# particles.head()"
   ]
  },
  {
   "cell_type": "code",
   "execution_count": 11,
   "metadata": {},
   "outputs": [],
   "source": [
    "# truth.head()"
   ]
  },
  {
   "cell_type": "markdown",
   "metadata": {},
   "source": [
    "### _Read Event_"
   ]
  },
  {
   "cell_type": "code",
   "execution_count": 12,
   "metadata": {},
   "outputs": [],
   "source": [
    "from src import SttCSVReader, Draw_Reader_Event"
   ]
  },
  {
   "cell_type": "code",
   "execution_count": 13,
   "metadata": {},
   "outputs": [],
   "source": [
    "reader = SttCSVReader(input_dir, True, True)"
   ]
  },
  {
   "cell_type": "code",
   "execution_count": 14,
   "metadata": {},
   "outputs": [],
   "source": [
    "data = reader(0)"
   ]
  },
  {
   "cell_type": "code",
   "execution_count": 15,
   "metadata": {},
   "outputs": [
    {
     "data": {
      "text/plain": [
       "Index(['hit_id', 'x', 'y', 'z', 'volume_id', 'layer', 'module_id', 'event_id',\n",
       "       'isochrone', 'skewed', 'sector_id', 'tx', 'ty', 'tz', 'tpx', 'tpy',\n",
       "       'tpz', 'weight', 'particle_id', 'vx', 'vy', 'vz', 'px', 'py', 'pz', 'q',\n",
       "       'nhits', 'pdgcode', 'start_time', 'primary', 'pt', 'peta', 'r', 'phi',\n",
       "       'eta', 'r3', 'absZ', 'tpt'],\n",
       "      dtype='object')"
      ]
     },
     "execution_count": 15,
     "metadata": {},
     "output_type": "execute_result"
    }
   ],
   "source": [
    "data.event.columns"
   ]
  },
  {
   "cell_type": "code",
   "execution_count": 16,
   "metadata": {},
   "outputs": [],
   "source": [
    "# data.event.head()"
   ]
  },
  {
   "cell_type": "code",
   "execution_count": 17,
   "metadata": {},
   "outputs": [],
   "source": [
    "# event = Compose_Event(file_prefixes[1], noise=False, skewed=True)"
   ]
  },
  {
   "cell_type": "markdown",
   "metadata": {},
   "source": [
    "### _Histograms_"
   ]
  },
  {
   "cell_type": "code",
   "execution_count": 18,
   "metadata": {},
   "outputs": [
    {
     "name": "stdout",
     "output_type": "stream",
     "text": [
      "Welcome to JupyROOT 6.26/08\n"
     ]
    }
   ],
   "source": [
    "import ROOT"
   ]
  },
  {
   "cell_type": "code",
   "execution_count": 19,
   "metadata": {},
   "outputs": [],
   "source": [
    "c1 = ROOT.TCanvas(\"c1\", \"Histograms\", 600,500)  # only one canvas is enough"
   ]
  },
  {
   "cell_type": "code",
   "execution_count": 20,
   "metadata": {},
   "outputs": [],
   "source": [
    "# Hit Distributions\n",
    "h1 = ROOT.TH1F(\"h1\", \"Number of Particles with pt > 50 MeV\", 100, 1, 10)\n",
    "h2 = ROOT.TH1F(\"h2\", \"Number of Particles with pt > 50 MeV and nhits > 5\", 100, 1, 10)\n",
    "h3 = ROOT.TH2F(\"h3\", \"Hit Distribution\", 1000, -40, 40, 1000, -40, 40)"
   ]
  },
  {
   "cell_type": "code",
   "execution_count": 21,
   "metadata": {},
   "outputs": [],
   "source": [
    "# Position Resolutions\n",
    "hrx = ROOT.TH1F(\"hrx\", \"X Position Resolution\", 100, -10, 10)\n",
    "hry = ROOT.TH1F(\"hry\", \"Y Position Resolution\", 100, -10, 10)\n",
    "hrz = ROOT.TH1F(\"hrz\", \"Z Position Resolution\", 100, -10, 10)"
   ]
  },
  {
   "cell_type": "code",
   "execution_count": null,
   "metadata": {},
   "outputs": [],
   "source": [
    "for i in range(len(file_prefixes)):\n",
    "    \n",
    "    if i != 0 and i%1000 == 0:\n",
    "        print(\"Processed Events:\", i)\n",
    "    \n",
    "    data = reader(i)\n",
    "    \n",
    "    truth_particles = data.event\n",
    "    truth_particles = truth_particles[truth_particles.pt > 0.05]       # particles with pt > 50 MeV\n",
    "    h1.Fill(np.unique(truth_particles.particle_id).size)\n",
    "    \n",
    "    truth_particles = truth_particles[truth_particles.nhits > 5]       # particles with nhits > 4\n",
    "    h2.Fill(np.unique(truth_particles.particle_id).size)\n",
    "    \n",
    "    xvals = data.event.x.values\n",
    "    yvals = data.event.y.values\n",
    "    \n",
    "    r_x = ((data.event.x - data.event.tx)/data.event.tx).values\n",
    "    r_y = ((data.event.y - data.event.ty)/data.event.ty).values\n",
    "    r_z = ((data.event.z - data.event.tz)/data.event.tz).values\n",
    "    \n",
    "    for idx in range(data.event.shape[0]):\n",
    "        h3.Fill(xvals[idx], yvals[idx])\n",
    "        hrx.Fill(r_x[idx])\n",
    "        hry.Fill(r_y[idx])\n",
    "        hrz.Fill(r_z[idx])       "
   ]
  },
  {
   "cell_type": "code",
   "execution_count": null,
   "metadata": {},
   "outputs": [],
   "source": [
    "%jsroot on"
   ]
  },
  {
   "cell_type": "markdown",
   "metadata": {},
   "source": [
    "### _Histograms_"
   ]
  },
  {
   "cell_type": "code",
   "execution_count": null,
   "metadata": {},
   "outputs": [],
   "source": [
    "h1.Draw();c1.Draw();c1.SaveAs(\"h1.pdf\")"
   ]
  },
  {
   "cell_type": "code",
   "execution_count": null,
   "metadata": {},
   "outputs": [],
   "source": [
    "h2.Draw();c1.Draw();c1.SaveAs(\"h2.pdf\")"
   ]
  },
  {
   "cell_type": "code",
   "execution_count": null,
   "metadata": {},
   "outputs": [],
   "source": [
    "c2 = ROOT.TCanvas(\"c2\", \"Histograms\", 600,600)\n",
    "h3.Draw(\"COLZ\");c2.Draw();c2.SaveAs(\"h3.pdf\");"
   ]
  },
  {
   "cell_type": "markdown",
   "metadata": {},
   "source": [
    "### _Position Resolutions_"
   ]
  },
  {
   "cell_type": "code",
   "execution_count": null,
   "metadata": {},
   "outputs": [],
   "source": [
    "hrx.Draw();c1.Draw();c1.SaveAs(\"hrx.pdf\")"
   ]
  },
  {
   "cell_type": "code",
   "execution_count": null,
   "metadata": {},
   "outputs": [],
   "source": [
    "hry.Draw();c1.Draw();c1.SaveAs(\"hry.pdf\")"
   ]
  },
  {
   "cell_type": "code",
   "execution_count": null,
   "metadata": {},
   "outputs": [],
   "source": [
    "hrz.Draw();c1.Draw();c1.SaveAs(\"hrz.pdf\")"
   ]
  }
 ],
 "metadata": {
  "kernelspec": {
   "display_name": "Python 3 (ipykernel)",
   "language": "python",
   "name": "python3"
  },
  "language_info": {
   "codemirror_mode": {
    "name": "ipython",
    "version": 3
   },
   "file_extension": ".py",
   "mimetype": "text/x-python",
   "name": "python",
   "nbconvert_exporter": "python",
   "pygments_lexer": "ipython3",
   "version": "3.11.0"
  }
 },
 "nbformat": 4,
 "nbformat_minor": 4
}
