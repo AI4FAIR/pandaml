{
 "cells": [
  {
   "cell_type": "markdown",
   "metadata": {},
   "source": [
    "## _Training: DNN Tracking on STT (Hit Pairs)_\n",
    "\n",
    "Waleed's TrackML like solution. Its similar to TrackML second solution (difference is in feature columns, prob table, hits in adjacent layers).\n",
    "\n",
    "- Dense Neural Network (DNN)\n",
    "- Hit Pair Probability Table\n",
    "- Cluster Hits into Tracks\n",
    "\n",
    "Inputs (features) and Targets (Labels) for this method are;\n",
    "\n",
    "$$X = (h_{i}, h_{j})$$\n",
    "$$y = 1 / 0$$\n",
    "\n",
    "Where $h_{i}$ = __*(hit_id, x, y, skewed, layer_id, sector_id, isochrone_radius, particle_id)*__ etc. We can add more information in a hit.\n",
    "\n",
    "Note\n",
    "- Train[:,:-1] all columns except last one (-1), Train[:,-1] only last column (-1)"
   ]
  },
  {
   "cell_type": "markdown",
   "metadata": {},
   "source": [
    "### _For validation accuracy $\\ge$ training accuracy_\n",
    "\n",
    "- [stackoverflow.com](https://stackoverflow.com/questions/43979449/higher-validation-accuracy-than-training-accurracy-using-tensorflow-and-keras)\n",
    "- [keras.io](https://keras.io/getting-started/faq/#why-is-the-training-loss-much-higher-than-the-testing-loss)\n",
    "- [cs231n.github.io](http://cs231n.github.io/neural-networks-3/#sanitycheck)"
   ]
  },
  {
   "cell_type": "markdown",
   "metadata": {},
   "source": [
    "### _Network Performance_\n",
    "\n",
    "- We would expect many more epochs needed to minimize the error or we may just have too many hidden nodes.\n",
    "- If an epoch consists of $11 \\times 10^6$ examples, then most of the update work might already be done within the $1^{st}$ epoch. In that case, a **loss graph** over **training example number** rather than over epochs might be more instructive to see initial training behaviour.\n",
    "- Did you use [early stopping](https://machinelearningmastery.com/early-stopping-to-avoid-overtraining-neural-network-models/) to avoid overtraining? **Issue:** it might not use whole data set. **Solution:** use epoch number as hyeprparameter.\n",
    "- Hyperparameter Tuning (**GridSearchCV**)\n",
    "- Maybe some data preprocessing might help the network to ease the task of implicit data preprocessing. In other words, you might want to apply a standardizing [(log-)z-score transformation](https://en.wikipedia.org/wiki/Standard_score) before training."
   ]
  },
  {
   "cell_type": "code",
   "execution_count": 1,
   "metadata": {},
   "outputs": [],
   "source": [
    "import os, glob"
   ]
  },
  {
   "cell_type": "code",
   "execution_count": 2,
   "metadata": {},
   "outputs": [],
   "source": [
    "import pickle\n",
    "import numpy as np\n",
    "import pandas as pd\n",
    "import dask.dataframe as dd\n",
    "\n",
    "from tqdm import tnrange\n",
    "from tqdm import tqdm_notebook\n",
    "\n",
    "import seaborn as sns\n",
    "\n",
    "import matplotlib.pyplot as plt\n",
    "import matplotlib.gridspec as gridspec\n",
    "from mpl_toolkits.mplot3d import Axes3D\n",
    "%matplotlib inline"
   ]
  },
  {
   "cell_type": "code",
   "execution_count": 3,
   "metadata": {},
   "outputs": [],
   "source": [
    "# TensorFlow (tf.keras)\n",
    "import tensorflow as tf"
   ]
  },
  {
   "cell_type": "code",
   "execution_count": 4,
   "metadata": {},
   "outputs": [],
   "source": [
    "# Utility Functions\n",
    "from prepare import get_event, pandas_events, prepare_train_doublets\n",
    "from drawing import draw_train_history, draw_pickled_history, draw_single_event, draw_reco_event\n",
    "from init_models import build_model, init_model"
   ]
  },
  {
   "cell_type": "code",
   "execution_count": 5,
   "metadata": {},
   "outputs": [
    {
     "name": "stdout",
     "output_type": "stream",
     "text": [
      "tensorflow: 1.14.0 , keras: 2.2.4-tf\n"
     ]
    }
   ],
   "source": [
    "print(\"tensorflow:\", tf.__version__, \", keras:\", tf.keras.__version__)"
   ]
  },
  {
   "cell_type": "markdown",
   "metadata": {},
   "source": [
    "## _Params/Configs_"
   ]
  },
  {
   "cell_type": "code",
   "execution_count": 6,
   "metadata": {},
   "outputs": [],
   "source": [
    "batch_size=256\n",
    "epochs=10\n",
    "val_frac=0.1"
   ]
  },
  {
   "cell_type": "code",
   "execution_count": 7,
   "metadata": {},
   "outputs": [],
   "source": [
    "# path = os.environ['HOME']+'/current/data_sets/'+'mljuelich/data2/'\n",
    "path = os.environ['HOME']+'/current/2_deepana/pandaml/data/'"
   ]
  },
  {
   "cell_type": "code",
   "execution_count": 8,
   "metadata": {},
   "outputs": [],
   "source": [
    "if not os.path.exists('models'):\n",
    "    os.mkdir('models')"
   ]
  },
  {
   "cell_type": "markdown",
   "metadata": {},
   "source": [
    "## _Event Vizualization_"
   ]
  },
  {
   "cell_type": "code",
   "execution_count": 9,
   "metadata": {},
   "outputs": [],
   "source": [
    "# idx = 1\n",
    "# hits, truth, particles, tubes = get_event(path, event_prefix='event00000000%02d'%idx)\n",
    "# draw_single_event(event=hits, event_id=idx)"
   ]
  },
  {
   "cell_type": "markdown",
   "metadata": {},
   "source": [
    "## _Exploratory Data Analysis (EDA)_"
   ]
  },
  {
   "cell_type": "code",
   "execution_count": 10,
   "metadata": {},
   "outputs": [],
   "source": [
    "# Pull all events using Pandas\n",
    "hits, truth, particles, tubes = pandas_events(path)"
   ]
  },
  {
   "cell_type": "code",
   "execution_count": 11,
   "metadata": {},
   "outputs": [
    {
     "data": {
      "text/html": [
       "<div>\n",
       "<style scoped>\n",
       "    .dataframe tbody tr th:only-of-type {\n",
       "        vertical-align: middle;\n",
       "    }\n",
       "\n",
       "    .dataframe tbody tr th {\n",
       "        vertical-align: top;\n",
       "    }\n",
       "\n",
       "    .dataframe thead th {\n",
       "        text-align: right;\n",
       "    }\n",
       "</style>\n",
       "<table border=\"1\" class=\"dataframe\">\n",
       "  <thead>\n",
       "    <tr style=\"text-align: right;\">\n",
       "      <th></th>\n",
       "      <th>hit_id</th>\n",
       "      <th>x</th>\n",
       "      <th>y</th>\n",
       "      <th>z</th>\n",
       "      <th>tube_id</th>\n",
       "      <th>skewed</th>\n",
       "      <th>layer_id</th>\n",
       "      <th>sector_id</th>\n",
       "      <th>volume_id</th>\n",
       "      <th>isochrone</th>\n",
       "      <th>depcharge</th>\n",
       "      <th>energyloss</th>\n",
       "      <th>particle_id</th>\n",
       "    </tr>\n",
       "  </thead>\n",
       "  <tbody>\n",
       "    <tr>\n",
       "      <th>0</th>\n",
       "      <td>1</td>\n",
       "      <td>-16.6190</td>\n",
       "      <td>-1.515</td>\n",
       "      <td>35.0</td>\n",
       "      <td>28</td>\n",
       "      <td>0</td>\n",
       "      <td>0</td>\n",
       "      <td>1</td>\n",
       "      <td>9</td>\n",
       "      <td>0.049925</td>\n",
       "      <td>16256100.0</td>\n",
       "      <td>16.25610</td>\n",
       "      <td>10</td>\n",
       "    </tr>\n",
       "    <tr>\n",
       "      <th>1</th>\n",
       "      <td>2</td>\n",
       "      <td>-17.4937</td>\n",
       "      <td>-2.020</td>\n",
       "      <td>35.0</td>\n",
       "      <td>134</td>\n",
       "      <td>0</td>\n",
       "      <td>1</td>\n",
       "      <td>1</td>\n",
       "      <td>9</td>\n",
       "      <td>0.281159</td>\n",
       "      <td>9955910.0</td>\n",
       "      <td>9.95591</td>\n",
       "      <td>10</td>\n",
       "    </tr>\n",
       "    <tr>\n",
       "      <th>2</th>\n",
       "      <td>3</td>\n",
       "      <td>-18.3684</td>\n",
       "      <td>-1.515</td>\n",
       "      <td>35.0</td>\n",
       "      <td>245</td>\n",
       "      <td>0</td>\n",
       "      <td>2</td>\n",
       "      <td>1</td>\n",
       "      <td>9</td>\n",
       "      <td>0.413188</td>\n",
       "      <td>3994340.0</td>\n",
       "      <td>3.99434</td>\n",
       "      <td>10</td>\n",
       "    </tr>\n",
       "    <tr>\n",
       "      <th>3</th>\n",
       "      <td>4</td>\n",
       "      <td>-19.2431</td>\n",
       "      <td>-2.020</td>\n",
       "      <td>35.0</td>\n",
       "      <td>363</td>\n",
       "      <td>0</td>\n",
       "      <td>3</td>\n",
       "      <td>1</td>\n",
       "      <td>9</td>\n",
       "      <td>0.141190</td>\n",
       "      <td>12391400.0</td>\n",
       "      <td>12.39140</td>\n",
       "      <td>10</td>\n",
       "    </tr>\n",
       "    <tr>\n",
       "      <th>4</th>\n",
       "      <td>5</td>\n",
       "      <td>-20.1178</td>\n",
       "      <td>-2.525</td>\n",
       "      <td>35.0</td>\n",
       "      <td>487</td>\n",
       "      <td>0</td>\n",
       "      <td>4</td>\n",
       "      <td>1</td>\n",
       "      <td>9</td>\n",
       "      <td>0.159385</td>\n",
       "      <td>6038700.0</td>\n",
       "      <td>6.03870</td>\n",
       "      <td>10</td>\n",
       "    </tr>\n",
       "  </tbody>\n",
       "</table>\n",
       "</div>"
      ],
      "text/plain": [
       "   hit_id        x      y     z  tube_id  skewed  layer_id  sector_id  \\\n",
       "0       1 -16.6190 -1.515  35.0       28       0         0          1   \n",
       "1       2 -17.4937 -2.020  35.0      134       0         1          1   \n",
       "2       3 -18.3684 -1.515  35.0      245       0         2          1   \n",
       "3       4 -19.2431 -2.020  35.0      363       0         3          1   \n",
       "4       5 -20.1178 -2.525  35.0      487       0         4          1   \n",
       "\n",
       "   volume_id  isochrone   depcharge  energyloss  particle_id  \n",
       "0          9   0.049925  16256100.0    16.25610           10  \n",
       "1          9   0.281159   9955910.0     9.95591           10  \n",
       "2          9   0.413188   3994340.0     3.99434           10  \n",
       "3          9   0.141190  12391400.0    12.39140           10  \n",
       "4          9   0.159385   6038700.0     6.03870           10  "
      ]
     },
     "execution_count": 11,
     "metadata": {},
     "output_type": "execute_result"
    }
   ],
   "source": [
    "hits.head()"
   ]
  },
  {
   "cell_type": "code",
   "execution_count": 12,
   "metadata": {},
   "outputs": [
    {
     "data": {
      "text/html": [
       "<div>\n",
       "<style scoped>\n",
       "    .dataframe tbody tr th:only-of-type {\n",
       "        vertical-align: middle;\n",
       "    }\n",
       "\n",
       "    .dataframe tbody tr th {\n",
       "        vertical-align: top;\n",
       "    }\n",
       "\n",
       "    .dataframe thead th {\n",
       "        text-align: right;\n",
       "    }\n",
       "</style>\n",
       "<table border=\"1\" class=\"dataframe\">\n",
       "  <thead>\n",
       "    <tr style=\"text-align: right;\">\n",
       "      <th></th>\n",
       "      <th>hit_id</th>\n",
       "      <th>tx</th>\n",
       "      <th>ty</th>\n",
       "      <th>tz</th>\n",
       "      <th>tpx</th>\n",
       "      <th>tpy</th>\n",
       "      <th>tpz</th>\n",
       "      <th>particle_id</th>\n",
       "    </tr>\n",
       "  </thead>\n",
       "  <tbody>\n",
       "    <tr>\n",
       "      <th>0</th>\n",
       "      <td>1</td>\n",
       "      <td>-16.6125</td>\n",
       "      <td>-1.54537</td>\n",
       "      <td>18.0768</td>\n",
       "      <td>-0.237797</td>\n",
       "      <td>-0.051115</td>\n",
       "      <td>0.268606</td>\n",
       "      <td>10</td>\n",
       "    </tr>\n",
       "    <tr>\n",
       "      <th>1</th>\n",
       "      <td>2</td>\n",
       "      <td>-17.5543</td>\n",
       "      <td>-1.75329</td>\n",
       "      <td>19.1420</td>\n",
       "      <td>-0.237263</td>\n",
       "      <td>-0.053999</td>\n",
       "      <td>0.268492</td>\n",
       "      <td>10</td>\n",
       "    </tr>\n",
       "    <tr>\n",
       "      <th>2</th>\n",
       "      <td>3</td>\n",
       "      <td>-18.2722</td>\n",
       "      <td>-1.91963</td>\n",
       "      <td>19.9554</td>\n",
       "      <td>-0.236697</td>\n",
       "      <td>-0.056308</td>\n",
       "      <td>0.268482</td>\n",
       "      <td>10</td>\n",
       "    </tr>\n",
       "    <tr>\n",
       "      <th>3</th>\n",
       "      <td>4</td>\n",
       "      <td>-19.2105</td>\n",
       "      <td>-2.14995</td>\n",
       "      <td>21.0217</td>\n",
       "      <td>-0.235934</td>\n",
       "      <td>-0.059223</td>\n",
       "      <td>0.268491</td>\n",
       "      <td>10</td>\n",
       "    </tr>\n",
       "    <tr>\n",
       "      <th>4</th>\n",
       "      <td>5</td>\n",
       "      <td>-20.1527</td>\n",
       "      <td>-2.39287</td>\n",
       "      <td>22.0953</td>\n",
       "      <td>-0.235313</td>\n",
       "      <td>-0.062231</td>\n",
       "      <td>0.268327</td>\n",
       "      <td>10</td>\n",
       "    </tr>\n",
       "  </tbody>\n",
       "</table>\n",
       "</div>"
      ],
      "text/plain": [
       "   hit_id       tx       ty       tz       tpx       tpy       tpz  \\\n",
       "0       1 -16.6125 -1.54537  18.0768 -0.237797 -0.051115  0.268606   \n",
       "1       2 -17.5543 -1.75329  19.1420 -0.237263 -0.053999  0.268492   \n",
       "2       3 -18.2722 -1.91963  19.9554 -0.236697 -0.056308  0.268482   \n",
       "3       4 -19.2105 -2.14995  21.0217 -0.235934 -0.059223  0.268491   \n",
       "4       5 -20.1527 -2.39287  22.0953 -0.235313 -0.062231  0.268327   \n",
       "\n",
       "   particle_id  \n",
       "0           10  \n",
       "1           10  \n",
       "2           10  \n",
       "3           10  \n",
       "4           10  "
      ]
     },
     "execution_count": 12,
     "metadata": {},
     "output_type": "execute_result"
    }
   ],
   "source": [
    "truth.head()"
   ]
  },
  {
   "cell_type": "code",
   "execution_count": 13,
   "metadata": {},
   "outputs": [
    {
     "data": {
      "image/png": "[encoded data removed]",
      "text/plain": [
       "<Figure size 720x720 with 16 Axes>"
      ]
     },
     "metadata": {
      "needs_background": "light"
     },
     "output_type": "display_data"
    }
   ],
   "source": [
    "# Pandas: Histogram\n",
    "_ = hits.hist(figsize = (10,10))"
   ]
  },
  {
   "cell_type": "code",
   "execution_count": null,
   "metadata": {},
   "outputs": [
    {
     "name": "stderr",
     "output_type": "stream",
     "text": [
      "/shared/adeel/anaconda/envs/rnn/lib/python3.7/site-packages/pandas/plotting/_misc.py:108: UserWarning: Attempting to set identical left == right == 9.0 results in singular transformations; automatically expanding.\n",
      "  ax.set_xlim(boundaries_list[j])\n",
      "/shared/adeel/anaconda/envs/rnn/lib/python3.7/site-packages/pandas/plotting/_misc.py:109: UserWarning: Attempting to set identical bottom == top == 9.0 results in singular transformations; automatically expanding.\n",
      "  ax.set_ylim(boundaries_list[i])\n",
      "/shared/adeel/anaconda/envs/rnn/lib/python3.7/site-packages/pandas/plotting/_misc.py:100: UserWarning: Attempting to set identical left == right == 9.0 results in singular transformations; automatically expanding.\n",
      "  ax.set_xlim(boundaries_list[i])\n"
     ]
    }
   ],
   "source": [
    "# Pandas: Scatter Matrix:\n",
    "#_ = pd.plotting.scatter_matrix(hits, figsize=(12, 12), diagonal='hist')\n",
    "_ = pd.plotting.scatter_matrix(hits,figsize=(12, 12), diagonal='kde')"
   ]
  },
  {
   "cell_type": "code",
   "execution_count": null,
   "metadata": {},
   "outputs": [],
   "source": [
    "# Seaborn: Pair Plot\n",
    "_ = sns.pairplot(hits)\n",
    "#_ = sns.pairplot(hits, hue=\"label\", diag_kind=\"kde\", palette=\"husl\")"
   ]
  },
  {
   "cell_type": "code",
   "execution_count": null,
   "metadata": {},
   "outputs": [],
   "source": [
    "# Seaborn: Heatmap\n",
    "# plt.figure(figsize=(10,10))\n",
    "_ = sns.heatmap(hits.corr(), annot=True,cmap ='RdYlGn')  # seaborn has very simple solution for heatmap"
   ]
  },
  {
   "cell_type": "code",
   "execution_count": null,
   "metadata": {},
   "outputs": [],
   "source": [
    "sns.jointplot(x = \"x\", y= \"y\", data = hits, alpha = 0.05, height = 10);"
   ]
  },
  {
   "cell_type": "code",
   "execution_count": null,
   "metadata": {},
   "outputs": [],
   "source": [
    "hits_per_layer = pd.DataFrame(hits.groupby(\"layer_id\", as_index=False)[\"hit_id\"].count())\n",
    "hits_per_layer = hits_per_layer.rename(columns = {\"hit_id\": \"num_of_hits\"})\n",
    "\n",
    "sns.barplot(x = hits_per_layer.layer_id, y = hits_per_layer.num_of_hits);"
   ]
  },
  {
   "cell_type": "code",
   "execution_count": null,
   "metadata": {},
   "outputs": [],
   "source": [
    "fig = plt.figure(figsize=(8, 8))\n",
    "ax = fig.add_subplot(111, projection='3d')\n",
    "\n",
    "#get the unique layer values\n",
    "layers = hits.layer_id.unique()\n",
    "\n",
    "#for each layer\n",
    "for layer in layers:\n",
    "    #get the data belonging to that layer alone\n",
    "    lay_hit = hits[hits.layer_id == layer]\n",
    "    #make a scatterplot of only points of a specific layer\n",
    "    #and give them colors (using label)\n",
    "    ax.scatter(lay_hit.x, lay_hit.y, lay_hit.z, s=1, label='layer {}'.format(layer))\n",
    "\n",
    "#set axes names\n",
    "ax.set_xlabel('x (mm)')\n",
    "ax.set_ylabel('y (mm)')\n",
    "ax.set_zlabel('z (mm)')\n",
    "ax.legend()\n",
    "plt.show()"
   ]
  },
  {
   "cell_type": "code",
   "execution_count": null,
   "metadata": {},
   "outputs": [],
   "source": [
    "fig = plt.figure(figsize=(25, 8))\n",
    "gs = gridspec.GridSpec(nrows=2, ncols=3, left=0.05, right=0.48, wspace=0.5, hspace = 0.3)\n",
    "ax = fig.add_subplot(gs[0:2,0:2], projection = '3d')\n",
    "ax2 =fig.add_subplot(gs[0,2])\n",
    "ax3 =fig.add_subplot(gs[1,2])\n",
    "\n",
    "#get the unique volume values\n",
    "volumes = hits.volume_id.unique()\n",
    "\n",
    "#for each volume\n",
    "for volume in volumes:\n",
    "    #get the data belonging to that volume alone\n",
    "    vol_hit = hits[hits.volume_id == volume]\n",
    "    #make a scatterplot of only points of a specific volume\n",
    "    #and give them colors (using label)\n",
    "    ax.scatter(\n",
    "        vol_hit.x, \n",
    "        vol_hit.y, \n",
    "        vol_hit.z, \n",
    "        s=0.1, \n",
    "        label='volume {}'.format(volume))\n",
    "\n",
    "    ax2.scatter( \n",
    "    x = vol_hit.x,\n",
    "    y = vol_hit.y,\n",
    "    s = 0.1,\n",
    "    label='volume {}'.format(volume))\n",
    "        \n",
    "    ax3.scatter(\n",
    "    x = vol_hit.x,\n",
    "    y = vol_hit.z,\n",
    "    s = 0.1,\n",
    "    label='volume {}'.format(volume))\n",
    "    \n",
    "#set axes names\n",
    "ax.set_xlabel('x (mm)')\n",
    "ax.set_ylabel('y (mm)')\n",
    "ax.set_zlabel('z (mm)')\n",
    "ax.set_title('Colored volumes')\n",
    "ax.legend(loc = \"upper left\")\n",
    "\n",
    "ax2.set_xlabel('x (mm)')\n",
    "ax2.set_ylabel('y (mm)')\n",
    "ax2.set_title('Colored volumes x-y cross section')\n",
    "\n",
    "ax3.set_xlabel('x (mm)')\n",
    "ax3.set_ylabel('z (mm)')\n",
    "ax3.set_title('Colored volumes x-z cross section')\n",
    "\n",
    "plt.show()"
   ]
  },
  {
   "cell_type": "code",
   "execution_count": null,
   "metadata": {},
   "outputs": [],
   "source": [
    "sns.jointplot(x = \"x\", y= \"z\", data = hits, alpha = 0.05, height = 10);"
   ]
  },
  {
   "cell_type": "code",
   "execution_count": null,
   "metadata": {},
   "outputs": [],
   "source": [
    "sns.jointplot(x = \"z\", y= \"x\", data = hits, alpha = 0.05, height = 10);"
   ]
  },
  {
   "cell_type": "code",
   "execution_count": null,
   "metadata": {},
   "outputs": [],
   "source": [
    "fig = plt.figure(figsize=(10, 10))\n",
    "ax = fig.add_subplot(111, projection='3d')\n",
    "ax.scatter(\n",
    "    xs=hits.x.values,\n",
    "    ys=hits.y.values,\n",
    "    zs=hits.z.values,\n",
    "    alpha = 0.05\n",
    ")\n",
    "ax.set_title('Hit Locations of event 1000')\n",
    "ax.set_xlabel('X (millimeters)')\n",
    "ax.set_ylabel('Y (millimeters)')\n",
    "ax.set_zlabel('Z (millimeters)')\n",
    "plt.show()"
   ]
  },
  {
   "cell_type": "code",
   "execution_count": null,
   "metadata": {},
   "outputs": [],
   "source": [
    "fig = plt.figure(figsize=(8, 8))\n",
    "ax = fig.add_subplot(111, projection='3d')\n",
    "ax.scatter(\n",
    "    xs=truth.tpx.values,\n",
    "    ys=truth.tpy.values,\n",
    "    zs=truth.tpz.values,\n",
    "    alpha = 0.01\n",
    ")\n",
    "ax.set_title('Momentum space of event 1000')\n",
    "ax.set_xlabel('Px (GeV/c)')\n",
    "ax.set_ylabel('Py (GeV/c)')\n",
    "ax.set_zlabel('Pz (GeV/c)')\n",
    "plt.show()"
   ]
  },
  {
   "cell_type": "code",
   "execution_count": null,
   "metadata": {},
   "outputs": [],
   "source": [
    "particles = particles.sample(frac=1)"
   ]
  },
  {
   "cell_type": "code",
   "execution_count": null,
   "metadata": {},
   "outputs": [],
   "source": [
    "particles.iloc[56,0]"
   ]
  },
  {
   "cell_type": "code",
   "execution_count": null,
   "metadata": {},
   "outputs": [],
   "source": [
    "particles.iloc[10,0]"
   ]
  },
  {
   "cell_type": "code",
   "execution_count": null,
   "metadata": {},
   "outputs": [],
   "source": [
    "particles.iloc[5,0]"
   ]
  },
  {
   "cell_type": "code",
   "execution_count": null,
   "metadata": {},
   "outputs": [],
   "source": [
    "### Truth dataset\n",
    "# For starters, let's see some trajectories from the truth dataset.\n",
    "\n",
    "#get the information for some particles\n",
    "truth_0 = truth[truth.particle_id == particles.iloc[56,0]]\n",
    "truth_1 = truth[truth.particle_id == particles.iloc[10,0]]\n",
    "truth_2 = truth[truth.particle_id == particles.iloc[5,0]]\n",
    "\n",
    "#create figure instance\n",
    "fig = plt.figure(figsize=(8, 8))\n",
    "ax = fig.add_subplot(111, projection='3d')\n",
    "\n",
    "#plot each particle's path\n",
    "ax.plot(\n",
    "    xs=truth_0.tx,\n",
    "    ys=truth_0.ty,\n",
    "    zs=truth_0.tz, marker='o')\n",
    "\n",
    "ax.plot(\n",
    "    xs=truth_1.tx,\n",
    "    ys=truth_1.ty,\n",
    "    zs=truth_1.tz, marker='o')\n",
    "\n",
    "ax.plot(\n",
    "    xs=truth_2.tx,\n",
    "    ys=truth_2.ty,\n",
    "    zs=truth_2.tz, marker='o')\n",
    "\n",
    "ax.set_title('Trajectories of 3 different particle_id')\n",
    "ax.set_xlabel('x (mm)')\n",
    "ax.set_ylabel('y (mm)')\n",
    "ax.set_zlabel('z (mm)')\n",
    "plt.show()"
   ]
  },
  {
   "cell_type": "code",
   "execution_count": null,
   "metadata": {},
   "outputs": [],
   "source": [
    "# Now let's automate this a bit and see a larger number of trajectories. Not too \n",
    "# large so we can still see some distinct paths.\n",
    "\n",
    "#get the information of a given particle from the truth dataframe\n",
    "information = []\n",
    "\n",
    "#append the information of each desired particle on a list\n",
    "for i in np.arange(0,100,1):\n",
    "    #select the true values for a given particle_id\n",
    "    particle_information = truth[truth.particle_id == particles.iloc[i,0]]\n",
    "    #append on the list\n",
    "    information.append(particle_information)\n",
    "\n",
    "#create figure instance\n",
    "fig = plt.figure(figsize=(25, 8))\n",
    "gs = gridspec.GridSpec(nrows=2, ncols=3, left=0.05, right=0.48, wspace=0.5, hspace = 0.3)\n",
    "ax = fig.add_subplot(gs[0:2,0:2], projection = '3d')\n",
    "ax2 =fig.add_subplot(gs[0,2])\n",
    "ax3 =fig.add_subplot(gs[1,2])\n",
    "\n",
    "#plot the trajectory for each particle on the information list\n",
    "for trajectory in information:\n",
    "    \n",
    "    ax.plot(\n",
    "    xs=trajectory.tx,\n",
    "    ys=trajectory.ty,\n",
    "    zs=trajectory.tz, marker='o')\n",
    "    \n",
    "    ax2.scatter( \n",
    "    x = trajectory.tx,\n",
    "    y = trajectory.ty)\n",
    "    \n",
    "    \n",
    "    ax3.scatter(\n",
    "    x= trajectory.tx,\n",
    "    y = trajectory.tz)\n",
    "    \n",
    "#labels\n",
    "ax.set_xlabel('x (mm)')\n",
    "ax.set_ylabel('y (mm)')\n",
    "ax.set_zlabel('z (mm)')\n",
    "ax.set_title('20 different trajectories')\n",
    "\n",
    "ax2.set_xlabel('x (mm)')\n",
    "ax2.set_ylabel('y (mm)')\n",
    "ax2.set_title('Detector x-y cross section')\n",
    "\n",
    "ax3.set_xlabel('x (mm)')\n",
    "ax3.set_ylabel('z (mm)')\n",
    "ax3.set_title('Detector x-z cross section')\n",
    "plt.show()"
   ]
  },
  {
   "cell_type": "markdown",
   "metadata": {},
   "source": [
    "### Vertical Intersection ($x, y$) in Detection Layers\n",
    "As shown in the figure below, the hits are semi evenly distributed on the detector surface $x, y$.  The white circle in the center of the plot is where the beam pipe lies.  Thanks [agerom] for [the clarification][clar].\n",
    "\n",
    "The colors represent different detector volumes.  Thanks to [Joshua Bonatt's notebook][josh].\n",
    "\n",
    "[josh]: https://www.kaggle.com/jbonatt/trackml-eda-etc\n",
    "[clar]: https://www.kaggle.com/wesamelshamy/trackml-problem-explanation-and-data-exploration/comments#323803\n",
    "[agerom]: https://www.kaggle.com/artemiosgeromitsos"
   ]
  },
  {
   "cell_type": "code",
   "execution_count": null,
   "metadata": {},
   "outputs": [],
   "source": [
    "# Plotting with Seaborn & Matplotlib:\n",
    "g = sns.jointplot(hits.x, hits.y, space=1, height=10, color=\"r\")\n",
    "g.ax_joint.cla()\n",
    "plt.sca(g.ax_joint)\n",
    "\n",
    "volumes = hits.volume_id.unique()\n",
    "for volume in volumes:\n",
    "    v = hits[hits.volume_id == volume]\n",
    "    plt.scatter(v.x, v.y, s=3, label='volume {}'.format(volume))\n",
    "\n",
    "plt.xlabel('X (mm)')\n",
    "plt.ylabel('Y (mm)')\n",
    "plt.legend()\n",
    "plt.show()"
   ]
  },
  {
   "cell_type": "markdown",
   "metadata": {},
   "source": [
    "### Horizonal Intersection ($y, z$) in Detection Layers\n",
    "You can think of the chart below as a horizontal intersection in the detection surface, where every dot is a hit.  Notice the relationship between the different activity levels in this chart and the one above for $x, y$.\n",
    "\n",
    "Again, the colors represent different volumes in the detector surface."
   ]
  },
  {
   "cell_type": "code",
   "execution_count": null,
   "metadata": {},
   "outputs": [],
   "source": [
    "g = sns.jointplot(hits.z, hits.y, space=1, height=10, color=\"r\")\n",
    "g.ax_joint.cla()\n",
    "plt.sca(g.ax_joint)\n",
    "\n",
    "volumes = hits.volume_id.unique()\n",
    "for volume in volumes:\n",
    "    v = hits[hits.volume_id == volume]\n",
    "    plt.scatter(v.z, v.y, s=3, label='volume {}'.format(volume))\n",
    "    \n",
    "plt.xlabel('Z (mm)')\n",
    "plt.ylabel('Y (mm)')\n",
    "plt.legend()\n",
    "plt.show()"
   ]
  },
  {
   "cell_type": "code",
   "execution_count": null,
   "metadata": {},
   "outputs": [],
   "source": [
    "fig = plt.figure(figsize=(16, 10))\n",
    "ax = fig.add_subplot(111, projection='3d')\n",
    "for volume in volumes:\n",
    "    v = hits[hits.volume_id == volume]\n",
    "    ax.scatter(v.z, v.x, v.y, s=1, label='volume {}'.format(volume), alpha=0.5)\n",
    "ax.set_title('Hit Locations')\n",
    "ax.set_xlabel('Z (millimeters)')\n",
    "ax.set_ylabel('X (millimeters)')\n",
    "ax.set_zlabel('Y (millimeters)')\n",
    "plt.show()"
   ]
  },
  {
   "cell_type": "markdown",
   "metadata": {},
   "source": [
    "### Initial Position and Momentum\n",
    "Let's now take a look at the initial position of the particles around the global coordinates' origin $(x, y)=(0,0)$, as shown in the figure below.\n",
    "\n",
    "The initial position distribution is more concentrated around the origin (less variance) than its hit position (shown above under the Hits Data section).  As the particles hit the detection surface, they tend to scatter as shown in the particle trajectory plot at the end of this notebook.\n",
    "\n",
    "The colors here show the number of hits for each particle."
   ]
  },
  {
   "cell_type": "markdown",
   "metadata": {},
   "source": [
    "g = sns.jointplot(particles.vx, particles.vy,  s=3, height=12)\n",
    "g.ax_joint.cla()\n",
    "plt.sca(g.ax_joint)\n",
    "\n",
    "n_hits = particles.nhits.unique()\n",
    "for n_hit in n_hits:\n",
    "    p = particles[particles.nhits == n_hit]\n",
    "    plt.scatter(p.vx, p.vy, s=3, label='Hits {}'.format(n_hit))\n",
    "\n",
    "plt.xlabel('X (mm)')\n",
    "plt.ylabel('Y (mm)')\n",
    "plt.legend()\n",
    "plt.show()"
   ]
  },
  {
   "cell_type": "markdown",
   "metadata": {},
   "source": [
    "## _Preprocessing_"
   ]
  },
  {
   "cell_type": "code",
   "execution_count": null,
   "metadata": {},
   "outputs": [],
   "source": [
    "# hits = hits.drop(['volume_id','depcharge','particle_id'], axis=1)\n",
    "\n",
    "# df = event[['skewed', 'layer_id']]   # select only 2 columns\n",
    "# df = df[df['skewed'] == 0]           # all non skewed\n",
    "# df = df.query('skewed==0')\n",
    "# df = df[df['skewed'] == 1]           # all skewed, layers = 8,9,2,...15 are skewed\n",
    "# df = df.query('skewed==1')\n",
    "\n",
    "# df = df[df['layer_id'] < 8]          # layers = 0,1,2,...7 are before skewed\n",
    "# df = df[df['layer_id'] > 15]         # layers = 16,17,...24 are after skewed\n",
    "# df = df[(df['layer_id'] > 7) & \n",
    "# (df['layer_id'] < 16)]               # layers = 8,9,2,...15 are skewed\n",
    "\n",
    "# df.cluster_id.unique()\n",
    "# df.layer.unique()\n",
    "# df[df[\"layer\"] < 3].head()\n",
    "# df[(df[\"layer\"] < 5) & (df[\"layer\"] > 3)].head()\n",
    "# df.loc[df[\"layer\"].isin([2, 3])].head()\n",
    "# df.loc[~df[\"layer\"].isin([2, 3])].head()\n",
    "# df.loc[(df[\"cluster_id\"]==8) & df[\"layer\"].isin([2, 3])].head()"
   ]
  },
  {
   "cell_type": "markdown",
   "metadata": {},
   "source": [
    "## _Prepare Training Data_\n",
    "\n",
    "Dataset for training (Hit Doublets)"
   ]
  },
  {
   "cell_type": "code",
   "execution_count": null,
   "metadata": {
    "scrolled": true
   },
   "outputs": [],
   "source": [
    "%time\n",
    "X, y = prepare_train_set(path=path, start=0, end=10)"
   ]
  },
  {
   "cell_type": "code",
   "execution_count": null,
   "metadata": {},
   "outputs": [],
   "source": [
    "X.shape"
   ]
  },
  {
   "cell_type": "markdown",
   "metadata": {},
   "source": [
    "## _Train Model_"
   ]
  },
  {
   "cell_type": "code",
   "execution_count": null,
   "metadata": {},
   "outputs": [],
   "source": [
    "Train=False"
   ]
  },
  {
   "cell_type": "code",
   "execution_count": null,
   "metadata": {},
   "outputs": [],
   "source": [
    "if Train:\n",
    "    # Keras API\n",
    "    # model = init_model(fs=10)\n",
    "    # plot_model(model, to_file='models/model.png', show_shapes=True, show_layer_names=True)\n",
    "    \n",
    "    # TF.Keras API\n",
    "    model = build_model(fs=10)\n",
    "    tf.keras.utils.plot_model(model, to_file='models/model.png', show_shapes=False, show_layer_names=True)\n",
    "    \n",
    "    model.summary()"
   ]
  },
  {
   "cell_type": "markdown",
   "metadata": {},
   "source": [
    "if Train:\n",
    "    # Fit the Model\n",
    "    hist = model.fit_generator(generator=train_batcher, steps_per_epoch=epoch_size, epochs=num_epochs,\n",
    "                               verbose=1, validation_data=valid_batcher, validation_steps=val_step, \n",
    "                               use_multiprocessing=False)"
   ]
  },
  {
   "cell_type": "code",
   "execution_count": null,
   "metadata": {},
   "outputs": [],
   "source": [
    "if Train:\n",
    "    # Fit the Model\n",
    "    hist = model.fit(X, y, epochs=20, batch_size=batch_size, validation_split=val_frac, verbose=1)"
   ]
  },
  {
   "cell_type": "code",
   "execution_count": null,
   "metadata": {},
   "outputs": [],
   "source": [
    "if Train:\n",
    "    # Plot Train History\n",
    "    draw_train_history(hist);"
   ]
  },
  {
   "cell_type": "code",
   "execution_count": null,
   "metadata": {},
   "outputs": [],
   "source": [
    "if Train:\n",
    "    # Save the Model\n",
    "    model.save('models/model.h5')\n",
    "    \n",
    "    # Save History (Using Pickle)\n",
    "    with open('models/model.pickle', 'wb') as hist_file:\n",
    "        pickle.dump(hist.history, hist_file)"
   ]
  },
  {
   "cell_type": "code",
   "execution_count": null,
   "metadata": {},
   "outputs": [],
   "source": [
    "# ANNVisualizer\n",
    "# from ann_visualizer.visualize import ann_viz\n",
    "# ann_viz(model, view=True,  filename=\"dnn\", title=\"Deep Neural Network\")"
   ]
  },
  {
   "cell_type": "markdown",
   "metadata": {},
   "source": [
    "## _Load Model_"
   ]
  },
  {
   "cell_type": "code",
   "execution_count": null,
   "metadata": {},
   "outputs": [],
   "source": [
    "Load=False"
   ]
  },
  {
   "cell_type": "code",
   "execution_count": null,
   "metadata": {},
   "outputs": [],
   "source": [
    "if Load:\n",
    "    history = None\n",
    "    with open('models/model.pickle', 'rb') as pickle_in:\n",
    "        history = pickle.load(pickle_in)\n",
    "    draw_pickled_history(history, draw_val=True);"
   ]
  },
  {
   "cell_type": "code",
   "execution_count": null,
   "metadata": {},
   "outputs": [],
   "source": [
    "if Load:\n",
    "    model = load_model('models/model.h5')"
   ]
  },
  {
   "cell_type": "markdown",
   "metadata": {},
   "source": [
    "## _Test Model_\n",
    "\n",
    "*Accuracy/Classification:* `np.mean(y_pred == y_test)`\n",
    "*Missclassification:* `np.mean(y_pred != y_test`"
   ]
  },
  {
   "cell_type": "code",
   "execution_count": null,
   "metadata": {},
   "outputs": [],
   "source": [
    "# See Model Metrics\n",
    "# model.metrics_names"
   ]
  },
  {
   "cell_type": "code",
   "execution_count": null,
   "metadata": {},
   "outputs": [],
   "source": [
    "# test_set loss and accuracy\n",
    "# test_loss, test_acc = model.evaluate(X_test, y_test)"
   ]
  },
  {
   "cell_type": "code",
   "execution_count": null,
   "metadata": {},
   "outputs": [],
   "source": [
    "# Print test_set loss and accuracy\n",
    "# print(\"test_loss:\", test_loss, \", test_acc:\", test_acc)"
   ]
  },
  {
   "cell_type": "markdown",
   "metadata": {},
   "source": [
    "## _Model Predictions_\n",
    "\n",
    "*Prediction:* `y_pred = model.predict(X_test)`"
   ]
  },
  {
   "cell_type": "code",
   "execution_count": null,
   "metadata": {},
   "outputs": [],
   "source": [
    "# Get test set predictions\n",
    "# y_pred = model.predict(X_test)\n",
    "# y_pred.shape"
   ]
  },
  {
   "cell_type": "markdown",
   "metadata": {},
   "source": [
    "## _SttHitClusterer_"
   ]
  },
  {
   "cell_type": "code",
   "execution_count": null,
   "metadata": {},
   "outputs": [],
   "source": [
    "class SttHitClusterer:\n",
    "    def __init__(self, path, model=None, batch_size=128, num_epochs=10):\n",
    "        \n",
    "        # Build Model:\n",
    "        self.model = model\n",
    "        # self.model = build_model(self.hidden_dim, DetectorGeometry.layer_r.shape[0], self.num_phi_bin)\n",
    "        # self.model = init_model_dnn(shape=10)\n",
    "        \n",
    "        # Params:\n",
    "        self.path = path\n",
    "        self.batch_size = batch_size\n",
    "        self.num_epochs = num_epochs\n",
    "        self.val_frac = 0.2\n",
    "\n",
    "        # Params:\n",
    "        self.train_input = None\n",
    "        self.train_target = None\n",
    "        self.test_input = None\n",
    "        self.test_pred = None\n",
    "        \n",
    "        # Params:\n",
    "        self.history = None\n",
    "        self.prepared = False\n",
    "    \n",
    "    def prepare_data(self, events, n_events):\n",
    "        if self.prepared:\n",
    "            return\n",
    "        self.prepared = True\n",
    "        self.train_input, train_target = prepare_pairs(events=events, n_events=n_events)\n",
    "        \n",
    "    def fit(self, events, n_events):\n",
    "        \n",
    "        # Prepare Data\n",
    "        prepare_data(self, events, n_events)\n",
    "        \n",
    "        # Fit DNN Model\n",
    "        self.history = self.model.fit(x=self.train_input,\n",
    "                                      y=self.train_target,\n",
    "                                      batch_size=self.batch_size,\n",
    "                                      epochs=self.num_epochs,\n",
    "                                      validation_split=self.val_frac)\n",
    "        # Save the Model\n",
    "        self.model.save(\"model.h5\")\n",
    "        \n",
    "    def predict_single_event(self, x_event):\n",
    "        print(\"TODO: predict single event\")\n",
    "        \n",
    "    def param_summary(self):\n",
    "        print(\"batch_size:\", self.batch_size)\n",
    "        print(\"num_epochs:\", self.num_epochs)\n",
    "        print(\"val. fraction:\", self.val_frac)"
   ]
  },
  {
   "cell_type": "code",
   "execution_count": null,
   "metadata": {},
   "outputs": [],
   "source": [
    "clust = SttHitClusterer(path, model)"
   ]
  },
  {
   "cell_type": "code",
   "execution_count": null,
   "metadata": {},
   "outputs": [],
   "source": [
    "clust.param_summary()"
   ]
  },
  {
   "cell_type": "code",
   "execution_count": null,
   "metadata": {},
   "outputs": [],
   "source": []
  }
 ],
 "metadata": {
  "kernelspec": {
   "display_name": "Python 3",
   "language": "python",
   "name": "python3"
  },
  "language_info": {
   "codemirror_mode": {
    "name": "ipython",
    "version": 3
   },
   "file_extension": ".py",
   "mimetype": "text/x-python",
   "name": "python",
   "nbconvert_exporter": "python",
   "pygments_lexer": "ipython3",
   "version": "3.7.3"
  }
 },
 "nbformat": 4,
 "nbformat_minor": 2
}
