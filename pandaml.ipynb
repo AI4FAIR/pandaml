{
 "cells": [
  {
   "cell_type": "markdown",
   "metadata": {},
   "source": [
    "### Panda Analysis"
   ]
  },
  {
   "cell_type": "code",
   "execution_count": 1,
   "metadata": {},
   "outputs": [
    {
     "name": "stderr",
     "output_type": "stream",
     "text": [
      "Using TensorFlow backend.\n"
     ]
    }
   ],
   "source": [
    "# some import statments\n",
    "import os\n",
    "import glob\n",
    "import math\n",
    "import random\n",
    "import numpy as np\n",
    "import pandas as pd\n",
    "import matplotlib.pyplot as plt\n",
    "\n",
    "from tqdm import tnrange\n",
    "from sklearn.model_selection import train_test_split\n",
    "\n",
    "from keras.models import Sequential\n",
    "from keras.layers import Dense, BatchNormalization, Conv2D, Dropout\n",
    "from keras.callbacks import EarlyStopping, ModelCheckpoint"
   ]
  },
  {
   "cell_type": "code",
   "execution_count": 2,
   "metadata": {},
   "outputs": [],
   "source": [
    "path='./data_sets/pandaml/'"
   ]
  },
  {
   "cell_type": "code",
   "execution_count": null,
   "metadata": {},
   "outputs": [],
   "source": [
    "# Sequential (Hit_Predictor)\n",
    "def init_model_sequential():\n",
    "    model = Sequential()\n",
    "    model.add(Bidirectional(LSTM(200, return_sequences=True), input_shape=(None, 2)))\n",
    "    model.add(Bidirectional(LSTM(100, return_sequences=False)))\n",
    "    model.add(RepeatVector(1))\n",
    "    model.add(TimeDistributed(Dense(2)))\n",
    "    return model\n",
    "\n",
    "# Functional (Hit_Predictor)\n",
    "def init_model_functional():\n",
    "    inputs = Input(shape=(None,2))\n",
    "    h1 = Bidirectional(LSTM(200, return_sequences=True))(inputs)\n",
    "    h2 = Bidirectional(LSTM(100, return_sequences=False))(h1)\n",
    "    h3 = RepeatVector(1)(h2)\n",
    "    outputs = TimeDistributed(Dense(2))(h3)\n",
    "    model = Model(inputs=inputs, outputs=outputs)\n",
    "    return model\n",
    "\n",
    "# Current Model\n",
    "def init_model(features=None):\n",
    "    model = Sequential()\n",
    "    model.add(Dense(400, activation='tanh', input_shape=(features,), kernel_initializer='glorot_uniform'))\n",
    "    model.add(Dropout(0.5))\n",
    "    model.add(Dense(300, activation='tanh', kernel_initializer='glorot_uniform'))\n",
    "    model.add(Dropout(0.5))\n",
    "    model.add(Dense(200, activation='tanh', kernel_initializer='glorot_uniform'))\n",
    "    model.add(Dropout(0.5))\n",
    "    model.add(Dense(100, activation='tanh', kernel_initializer='glorot_uniform'))\n",
    "    model.add(Dropout(0.5))\n",
    "    model.add(Dense(50, activation='tanh', kernel_initializer='glorot_uniform'))\n",
    "    model.add(Dense(1, activation='sigmoid'))\n",
    "    model.compile(loss='binary_crossentropy', optimizer='adam', metrics=['accuracy'])\n",
    "    model.summary()\n",
    "    return model"
   ]
  },
  {
   "cell_type": "code",
   "execution_count": null,
   "metadata": {},
   "outputs": [],
   "source": [
    "model = init_model(features=X.shape[1])"
   ]
  },
  {
   "cell_type": "code",
   "execution_count": null,
   "metadata": {},
   "outputs": [],
   "source": [
    "history = model.fit(X_train, y_train, epochs=50, batch_size=2048, validation_split=0.10)"
   ]
  },
  {
   "cell_type": "code",
   "execution_count": null,
   "metadata": {},
   "outputs": [],
   "source": [
    "model.save('pandaml.h5')"
   ]
  },
  {
   "cell_type": "markdown",
   "metadata": {},
   "source": [
    "### Plotting:"
   ]
  },
  {
   "cell_type": "code",
   "execution_count": null,
   "metadata": {},
   "outputs": [],
   "source": [
    "# For validation accuracy > training accuracy, for reasons see;\n",
    "# https://stackoverflow.com/questions/43979449/higher-validation-accuracy-than-training-accurracy-using-tensorflow-and-keras\n",
    "# https://keras.io/getting-started/faq/#why-is-the-training-loss-much-higher-than-the-testing-loss\n",
    "# http://cs231n.github.io/neural-networks-3/#sanitycheck\n",
    "\n",
    "hist = history.history\n",
    "\n",
    "plt.style.use('ggplot')\n",
    "fig = plt.figure(figsize=(20,10))\n",
    "\n",
    "plt.subplot(1, 2, 1)\n",
    "plt.plot(np.array(hist['acc']), label='Training',  color='blue', linewidth= 2)\n",
    "plt.plot(np.array(hist['val_acc']), label='Validation',  color='red', linewidth= 2)\n",
    "plt.xlim(0)\n",
    "plt.ylim(0.5,1.00)\n",
    "plt.grid(True)\n",
    "plt.xlabel('Epochs', fontsize=15)\n",
    "plt.ylabel('Accuracy', fontsize=15)\n",
    "plt.legend(loc='best', fontsize=15)\n",
    "plt.xticks(fontsize=15)\n",
    "plt.yticks(fontsize=15)\n",
    "plt.title('train_before_skewed')\n",
    "\n",
    "plt.subplot(1, 2, 2)\n",
    "plt.plot(np.array(hist['loss']), label='Training',  color='blue', linewidth= 2)\n",
    "plt.plot(np.array(hist['val_loss']), label='Validation',  color='red', linewidth= 2)\n",
    "plt.xlim(0)\n",
    "plt.ylim(0.0,0.5)\n",
    "plt.grid(True)\n",
    "plt.xlabel('Epochs', fontsize=15)\n",
    "plt.ylabel('Loss', fontsize=15)\n",
    "plt.legend(loc='best', fontsize=15)\n",
    "plt.xticks(fontsize=15)\n",
    "plt.yticks(fontsize=15)\n",
    "\n",
    "plt.title('train_all')\n",
    "plt.savefig('train_all.png')\n",
    "plt.show()"
   ]
  },
  {
   "cell_type": "code",
   "execution_count": null,
   "metadata": {},
   "outputs": [],
   "source": []
  }
 ],
 "metadata": {
  "kernelspec": {
   "display_name": "Python 3",
   "language": "python",
   "name": "python3"
  },
  "language_info": {
   "codemirror_mode": {
    "name": "ipython",
    "version": 3
   },
   "file_extension": ".py",
   "mimetype": "text/x-python",
   "name": "python",
   "nbconvert_exporter": "python",
   "pygments_lexer": "ipython3",
   "version": "3.6.8"
  }
 },
 "nbformat": 4,
 "nbformat_minor": 2
}
