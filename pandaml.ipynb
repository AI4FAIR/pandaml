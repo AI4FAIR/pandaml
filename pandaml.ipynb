{
 "cells": [
  {
   "cell_type": "markdown",
   "metadata": {},
   "source": [
    "## _PandaML_\n",
    "\n",
    "- Perform detailed Exploratory Data Analysis on STT Data."
   ]
  },
  {
   "cell_type": "code",
   "execution_count": 3,
   "metadata": {},
   "outputs": [],
   "source": [
    "import os\n",
    "import glob\n",
    "import math\n",
    "import random\n",
    "import numpy as np\n",
    "import pandas as pd\n",
    "import matplotlib.pyplot as plt\n",
    "\n",
    "import trackml.dataset\n",
    "import tensorflow as tf"
   ]
  },
  {
   "cell_type": "code",
   "execution_count": 4,
   "metadata": {},
   "outputs": [],
   "source": [
    "path = os.environ['HOME']+'/current/2_deepana/pandaml/data/'"
   ]
  },
  {
   "cell_type": "code",
   "execution_count": 5,
   "metadata": {},
   "outputs": [],
   "source": [
    "if not os.path.exists('models'):\n",
    "    os.mkdir('models')"
   ]
  },
  {
   "cell_type": "markdown",
   "metadata": {},
   "source": [
    "### _Input Pipeline_"
   ]
  },
  {
   "cell_type": "code",
   "execution_count": 7,
   "metadata": {},
   "outputs": [],
   "source": [
    "# load event (hits) using trackml.dataset (update: pandaroot will now generate tubes.csv as cells.csv)\n",
    "event_id = 2\n",
    "prefix = path + str('event{!s}'.format(format(event_id, '010d')))\n",
    "hits = trackml.dataset.load_event_hits(prefix)"
   ]
  },
  {
   "cell_type": "code",
   "execution_count": 8,
   "metadata": {},
   "outputs": [
    {
     "data": {
      "text/html": [
       "<div>\n",
       "<style scoped>\n",
       "    .dataframe tbody tr th:only-of-type {\n",
       "        vertical-align: middle;\n",
       "    }\n",
       "\n",
       "    .dataframe tbody tr th {\n",
       "        vertical-align: top;\n",
       "    }\n",
       "\n",
       "    .dataframe thead th {\n",
       "        text-align: right;\n",
       "    }\n",
       "</style>\n",
       "<table border=\"1\" class=\"dataframe\">\n",
       "  <thead>\n",
       "    <tr style=\"text-align: right;\">\n",
       "      <th></th>\n",
       "      <th>hit_id</th>\n",
       "      <th>x</th>\n",
       "      <th>y</th>\n",
       "      <th>z</th>\n",
       "      <th>tube_id</th>\n",
       "      <th>skewed</th>\n",
       "      <th>layer_id</th>\n",
       "      <th>sector_id</th>\n",
       "      <th>volume_id</th>\n",
       "      <th>isochrone</th>\n",
       "      <th>depcharge</th>\n",
       "      <th>energyloss</th>\n",
       "      <th>particle_id</th>\n",
       "    </tr>\n",
       "  </thead>\n",
       "  <tbody>\n",
       "    <tr>\n",
       "      <th>0</th>\n",
       "      <td>1</td>\n",
       "      <td>6.12280</td>\n",
       "      <td>15.655000</td>\n",
       "      <td>35.0</td>\n",
       "      <td>100</td>\n",
       "      <td>0</td>\n",
       "      <td>0</td>\n",
       "      <td>5</td>\n",
       "      <td>9</td>\n",
       "      <td>0.146146</td>\n",
       "      <td>8149400.0</td>\n",
       "      <td>8.14940</td>\n",
       "      <td>10</td>\n",
       "    </tr>\n",
       "    <tr>\n",
       "      <th>1</th>\n",
       "      <td>2</td>\n",
       "      <td>6.12280</td>\n",
       "      <td>16.665001</td>\n",
       "      <td>35.0</td>\n",
       "      <td>210</td>\n",
       "      <td>0</td>\n",
       "      <td>1</td>\n",
       "      <td>5</td>\n",
       "      <td>9</td>\n",
       "      <td>0.189320</td>\n",
       "      <td>7476680.0</td>\n",
       "      <td>7.47668</td>\n",
       "      <td>10</td>\n",
       "    </tr>\n",
       "    <tr>\n",
       "      <th>2</th>\n",
       "      <td>3</td>\n",
       "      <td>6.99749</td>\n",
       "      <td>17.170000</td>\n",
       "      <td>35.0</td>\n",
       "      <td>325</td>\n",
       "      <td>0</td>\n",
       "      <td>2</td>\n",
       "      <td>5</td>\n",
       "      <td>9</td>\n",
       "      <td>0.431614</td>\n",
       "      <td>2906550.0</td>\n",
       "      <td>2.90655</td>\n",
       "      <td>10</td>\n",
       "    </tr>\n",
       "    <tr>\n",
       "      <th>3</th>\n",
       "      <td>4</td>\n",
       "      <td>6.99749</td>\n",
       "      <td>18.180000</td>\n",
       "      <td>35.0</td>\n",
       "      <td>447</td>\n",
       "      <td>0</td>\n",
       "      <td>3</td>\n",
       "      <td>5</td>\n",
       "      <td>9</td>\n",
       "      <td>0.111111</td>\n",
       "      <td>16542200.0</td>\n",
       "      <td>16.54220</td>\n",
       "      <td>10</td>\n",
       "    </tr>\n",
       "    <tr>\n",
       "      <th>4</th>\n",
       "      <td>5</td>\n",
       "      <td>6.99749</td>\n",
       "      <td>19.190001</td>\n",
       "      <td>35.0</td>\n",
       "      <td>575</td>\n",
       "      <td>0</td>\n",
       "      <td>4</td>\n",
       "      <td>5</td>\n",
       "      <td>9</td>\n",
       "      <td>0.262922</td>\n",
       "      <td>14161500.0</td>\n",
       "      <td>14.16150</td>\n",
       "      <td>10</td>\n",
       "    </tr>\n",
       "  </tbody>\n",
       "</table>\n",
       "</div>"
      ],
      "text/plain": [
       "   hit_id        x          y     z  tube_id  skewed  layer_id  sector_id  \\\n",
       "0       1  6.12280  15.655000  35.0      100       0         0          5   \n",
       "1       2  6.12280  16.665001  35.0      210       0         1          5   \n",
       "2       3  6.99749  17.170000  35.0      325       0         2          5   \n",
       "3       4  6.99749  18.180000  35.0      447       0         3          5   \n",
       "4       5  6.99749  19.190001  35.0      575       0         4          5   \n",
       "\n",
       "   volume_id  isochrone   depcharge  energyloss  particle_id  \n",
       "0          9   0.146146   8149400.0     8.14940           10  \n",
       "1          9   0.189320   7476680.0     7.47668           10  \n",
       "2          9   0.431614   2906550.0     2.90655           10  \n",
       "3          9   0.111111  16542200.0    16.54220           10  \n",
       "4          9   0.262922  14161500.0    14.16150           10  "
      ]
     },
     "execution_count": 8,
     "metadata": {},
     "output_type": "execute_result"
    }
   ],
   "source": [
    "hits.head()"
   ]
  },
  {
   "cell_type": "markdown",
   "metadata": {},
   "source": [
    "### _Exploratory Data Analysis_"
   ]
  },
  {
   "cell_type": "code",
   "execution_count": null,
   "metadata": {},
   "outputs": [],
   "source": []
  }
 ],
 "metadata": {
  "kernelspec": {
   "display_name": "Python 3",
   "language": "python",
   "name": "python3"
  },
  "language_info": {
   "codemirror_mode": {
    "name": "ipython",
    "version": 3
   },
   "file_extension": ".py",
   "mimetype": "text/x-python",
   "name": "python",
   "nbconvert_exporter": "python",
   "pygments_lexer": "ipython3",
   "version": "3.8.6"
  }
 },
 "nbformat": 4,
 "nbformat_minor": 4
}
