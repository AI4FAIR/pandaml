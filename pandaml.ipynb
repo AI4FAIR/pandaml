{
 "cells": [
  {
   "cell_type": "markdown",
   "metadata": {},
   "source": [
    "## _PandaML_\n",
    "\n",
    "- Perform detailed Exploratory Data Analysis on STT Data."
   ]
  },
  {
   "cell_type": "code",
   "execution_count": 37,
   "metadata": {},
   "outputs": [],
   "source": [
    "import os\n",
    "import glob\n",
    "import math\n",
    "import random\n",
    "import numpy as np\n",
    "import pandas as pd\n",
    "import matplotlib.pyplot as plt\n",
    "\n",
    "import trackml.dataset\n",
    "import tensorflow as tf\n",
    "import seaborn as sns"
   ]
  },
  {
   "cell_type": "code",
   "execution_count": 2,
   "metadata": {},
   "outputs": [],
   "source": [
    "path = os.environ['HOME']+'/current/2_deepana/pandaml/data/'"
   ]
  },
  {
   "cell_type": "markdown",
   "metadata": {},
   "source": [
    "## Dataset"
   ]
  },
  {
   "cell_type": "code",
   "execution_count": 19,
   "metadata": {},
   "outputs": [],
   "source": [
    "# load event (hits) using trackml.dataset (update: pandaroot will now generate tubes.csv as cells.csv)\n",
    "event_id = 1\n",
    "prefix = path + str('event{!s}'.format(format(event_id, '010d')))\n",
    "hits, tubes, particles, truth = trackml.dataset.load_event(prefix)"
   ]
  },
  {
   "cell_type": "code",
   "execution_count": 20,
   "metadata": {},
   "outputs": [
    {
     "data": {
      "text/html": [
       "<div>\n",
       "<style scoped>\n",
       "    .dataframe tbody tr th:only-of-type {\n",
       "        vertical-align: middle;\n",
       "    }\n",
       "\n",
       "    .dataframe tbody tr th {\n",
       "        vertical-align: top;\n",
       "    }\n",
       "\n",
       "    .dataframe thead th {\n",
       "        text-align: right;\n",
       "    }\n",
       "</style>\n",
       "<table border=\"1\" class=\"dataframe\">\n",
       "  <thead>\n",
       "    <tr style=\"text-align: right;\">\n",
       "      <th></th>\n",
       "      <th>hit_id</th>\n",
       "      <th>x</th>\n",
       "      <th>y</th>\n",
       "      <th>z</th>\n",
       "      <th>volume_id</th>\n",
       "      <th>layer_id</th>\n",
       "      <th>module_id</th>\n",
       "    </tr>\n",
       "  </thead>\n",
       "  <tbody>\n",
       "    <tr>\n",
       "      <th>0</th>\n",
       "      <td>1</td>\n",
       "      <td>6.99749</td>\n",
       "      <td>15.150000</td>\n",
       "      <td>35.0</td>\n",
       "      <td>9</td>\n",
       "      <td>0</td>\n",
       "      <td>99</td>\n",
       "    </tr>\n",
       "    <tr>\n",
       "      <th>1</th>\n",
       "      <td>2</td>\n",
       "      <td>7.87217</td>\n",
       "      <td>15.655000</td>\n",
       "      <td>35.0</td>\n",
       "      <td>9</td>\n",
       "      <td>1</td>\n",
       "      <td>208</td>\n",
       "    </tr>\n",
       "    <tr>\n",
       "      <th>2</th>\n",
       "      <td>3</td>\n",
       "      <td>7.87217</td>\n",
       "      <td>16.665001</td>\n",
       "      <td>35.0</td>\n",
       "      <td>9</td>\n",
       "      <td>2</td>\n",
       "      <td>324</td>\n",
       "    </tr>\n",
       "    <tr>\n",
       "      <th>3</th>\n",
       "      <td>4</td>\n",
       "      <td>7.87217</td>\n",
       "      <td>17.674999</td>\n",
       "      <td>35.0</td>\n",
       "      <td>9</td>\n",
       "      <td>3</td>\n",
       "      <td>446</td>\n",
       "    </tr>\n",
       "    <tr>\n",
       "      <th>4</th>\n",
       "      <td>5</td>\n",
       "      <td>8.74686</td>\n",
       "      <td>18.180000</td>\n",
       "      <td>35.0</td>\n",
       "      <td>9</td>\n",
       "      <td>4</td>\n",
       "      <td>573</td>\n",
       "    </tr>\n",
       "  </tbody>\n",
       "</table>\n",
       "</div>"
      ],
      "text/plain": [
       "   hit_id        x          y     z  volume_id  layer_id  module_id\n",
       "0       1  6.99749  15.150000  35.0          9         0         99\n",
       "1       2  7.87217  15.655000  35.0          9         1        208\n",
       "2       3  7.87217  16.665001  35.0          9         2        324\n",
       "3       4  7.87217  17.674999  35.0          9         3        446\n",
       "4       5  8.74686  18.180000  35.0          9         4        573"
      ]
     },
     "execution_count": 20,
     "metadata": {},
     "output_type": "execute_result"
    }
   ],
   "source": [
    "hits.head()"
   ]
  },
  {
   "cell_type": "code",
   "execution_count": 23,
   "metadata": {},
   "outputs": [
    {
     "data": {
      "text/html": [
       "<div>\n",
       "<style scoped>\n",
       "    .dataframe tbody tr th:only-of-type {\n",
       "        vertical-align: middle;\n",
       "    }\n",
       "\n",
       "    .dataframe tbody tr th {\n",
       "        vertical-align: top;\n",
       "    }\n",
       "\n",
       "    .dataframe thead th {\n",
       "        text-align: right;\n",
       "    }\n",
       "</style>\n",
       "<table border=\"1\" class=\"dataframe\">\n",
       "  <thead>\n",
       "    <tr style=\"text-align: right;\">\n",
       "      <th></th>\n",
       "      <th>hit_id</th>\n",
       "      <th>isochrone</th>\n",
       "      <th>depcharge</th>\n",
       "      <th>energyloss</th>\n",
       "      <th>volume_id</th>\n",
       "      <th>layer_id</th>\n",
       "      <th>module_id</th>\n",
       "      <th>skewed</th>\n",
       "      <th>sector_id</th>\n",
       "    </tr>\n",
       "  </thead>\n",
       "  <tbody>\n",
       "    <tr>\n",
       "      <th>0</th>\n",
       "      <td>1</td>\n",
       "      <td>0.104147</td>\n",
       "      <td>10223000.0</td>\n",
       "      <td>10.22300</td>\n",
       "      <td>9</td>\n",
       "      <td>0</td>\n",
       "      <td>99</td>\n",
       "      <td>0</td>\n",
       "      <td>5</td>\n",
       "    </tr>\n",
       "    <tr>\n",
       "      <th>1</th>\n",
       "      <td>2</td>\n",
       "      <td>0.477515</td>\n",
       "      <td>1246860.0</td>\n",
       "      <td>1.24686</td>\n",
       "      <td>9</td>\n",
       "      <td>1</td>\n",
       "      <td>208</td>\n",
       "      <td>0</td>\n",
       "      <td>5</td>\n",
       "    </tr>\n",
       "    <tr>\n",
       "      <th>2</th>\n",
       "      <td>3</td>\n",
       "      <td>0.028947</td>\n",
       "      <td>6736290.0</td>\n",
       "      <td>6.73629</td>\n",
       "      <td>9</td>\n",
       "      <td>2</td>\n",
       "      <td>324</td>\n",
       "      <td>0</td>\n",
       "      <td>5</td>\n",
       "    </tr>\n",
       "    <tr>\n",
       "      <th>3</th>\n",
       "      <td>4</td>\n",
       "      <td>0.414719</td>\n",
       "      <td>4375780.0</td>\n",
       "      <td>4.37578</td>\n",
       "      <td>9</td>\n",
       "      <td>3</td>\n",
       "      <td>446</td>\n",
       "      <td>0</td>\n",
       "      <td>5</td>\n",
       "    </tr>\n",
       "    <tr>\n",
       "      <th>4</th>\n",
       "      <td>5</td>\n",
       "      <td>0.152061</td>\n",
       "      <td>6719330.0</td>\n",
       "      <td>6.71933</td>\n",
       "      <td>9</td>\n",
       "      <td>4</td>\n",
       "      <td>573</td>\n",
       "      <td>0</td>\n",
       "      <td>5</td>\n",
       "    </tr>\n",
       "  </tbody>\n",
       "</table>\n",
       "</div>"
      ],
      "text/plain": [
       "   hit_id  isochrone   depcharge  energyloss  volume_id  layer_id  module_id  \\\n",
       "0       1   0.104147  10223000.0    10.22300          9         0         99   \n",
       "1       2   0.477515   1246860.0     1.24686          9         1        208   \n",
       "2       3   0.028947   6736290.0     6.73629          9         2        324   \n",
       "3       4   0.414719   4375780.0     4.37578          9         3        446   \n",
       "4       5   0.152061   6719330.0     6.71933          9         4        573   \n",
       "\n",
       "   skewed  sector_id  \n",
       "0       0          5  \n",
       "1       0          5  \n",
       "2       0          5  \n",
       "3       0          5  \n",
       "4       0          5  "
      ]
     },
     "execution_count": 23,
     "metadata": {},
     "output_type": "execute_result"
    }
   ],
   "source": [
    "tubes.head()"
   ]
  },
  {
   "cell_type": "code",
   "execution_count": 28,
   "metadata": {},
   "outputs": [
    {
     "data": {
      "text/html": [
       "<div>\n",
       "<style scoped>\n",
       "    .dataframe tbody tr th:only-of-type {\n",
       "        vertical-align: middle;\n",
       "    }\n",
       "\n",
       "    .dataframe tbody tr th {\n",
       "        vertical-align: top;\n",
       "    }\n",
       "\n",
       "    .dataframe thead th {\n",
       "        text-align: right;\n",
       "    }\n",
       "</style>\n",
       "<table border=\"1\" class=\"dataframe\">\n",
       "  <thead>\n",
       "    <tr style=\"text-align: right;\">\n",
       "      <th></th>\n",
       "      <th>particle_id</th>\n",
       "      <th>vx</th>\n",
       "      <th>vy</th>\n",
       "      <th>vz</th>\n",
       "      <th>px</th>\n",
       "      <th>py</th>\n",
       "      <th>pz</th>\n",
       "      <th>q</th>\n",
       "      <th>nhits</th>\n",
       "      <th>pdgcode</th>\n",
       "      <th>start_time</th>\n",
       "    </tr>\n",
       "  </thead>\n",
       "  <tbody>\n",
       "    <tr>\n",
       "      <th>0</th>\n",
       "      <td>1</td>\n",
       "      <td>0.0</td>\n",
       "      <td>0.0</td>\n",
       "      <td>0.0</td>\n",
       "      <td>-1.452330</td>\n",
       "      <td>-1.950250</td>\n",
       "      <td>-0.306385</td>\n",
       "      <td>1</td>\n",
       "      <td>1</td>\n",
       "      <td>13</td>\n",
       "      <td>0</td>\n",
       "    </tr>\n",
       "    <tr>\n",
       "      <th>1</th>\n",
       "      <td>2</td>\n",
       "      <td>0.0</td>\n",
       "      <td>0.0</td>\n",
       "      <td>0.0</td>\n",
       "      <td>-0.261170</td>\n",
       "      <td>-1.131130</td>\n",
       "      <td>-0.300518</td>\n",
       "      <td>1</td>\n",
       "      <td>1</td>\n",
       "      <td>13</td>\n",
       "      <td>0</td>\n",
       "    </tr>\n",
       "    <tr>\n",
       "      <th>2</th>\n",
       "      <td>3</td>\n",
       "      <td>0.0</td>\n",
       "      <td>0.0</td>\n",
       "      <td>0.0</td>\n",
       "      <td>0.969288</td>\n",
       "      <td>0.779675</td>\n",
       "      <td>0.190717</td>\n",
       "      <td>1</td>\n",
       "      <td>1</td>\n",
       "      <td>13</td>\n",
       "      <td>0</td>\n",
       "    </tr>\n",
       "    <tr>\n",
       "      <th>3</th>\n",
       "      <td>4</td>\n",
       "      <td>0.0</td>\n",
       "      <td>0.0</td>\n",
       "      <td>0.0</td>\n",
       "      <td>0.218074</td>\n",
       "      <td>0.802688</td>\n",
       "      <td>1.340770</td>\n",
       "      <td>1</td>\n",
       "      <td>1</td>\n",
       "      <td>13</td>\n",
       "      <td>0</td>\n",
       "    </tr>\n",
       "    <tr>\n",
       "      <th>4</th>\n",
       "      <td>5</td>\n",
       "      <td>0.0</td>\n",
       "      <td>0.0</td>\n",
       "      <td>0.0</td>\n",
       "      <td>0.763200</td>\n",
       "      <td>0.793767</td>\n",
       "      <td>1.781970</td>\n",
       "      <td>1</td>\n",
       "      <td>1</td>\n",
       "      <td>13</td>\n",
       "      <td>0</td>\n",
       "    </tr>\n",
       "  </tbody>\n",
       "</table>\n",
       "</div>"
      ],
      "text/plain": [
       "   particle_id   vx   vy   vz        px        py        pz  q  nhits  \\\n",
       "0            1  0.0  0.0  0.0 -1.452330 -1.950250 -0.306385  1      1   \n",
       "1            2  0.0  0.0  0.0 -0.261170 -1.131130 -0.300518  1      1   \n",
       "2            3  0.0  0.0  0.0  0.969288  0.779675  0.190717  1      1   \n",
       "3            4  0.0  0.0  0.0  0.218074  0.802688  1.340770  1      1   \n",
       "4            5  0.0  0.0  0.0  0.763200  0.793767  1.781970  1      1   \n",
       "\n",
       "   pdgcode  start_time  \n",
       "0       13           0  \n",
       "1       13           0  \n",
       "2       13           0  \n",
       "3       13           0  \n",
       "4       13           0  "
      ]
     },
     "execution_count": 28,
     "metadata": {},
     "output_type": "execute_result"
    }
   ],
   "source": [
    "particles.head()"
   ]
  },
  {
   "cell_type": "code",
   "execution_count": 29,
   "metadata": {},
   "outputs": [
    {
     "data": {
      "text/html": [
       "<div>\n",
       "<style scoped>\n",
       "    .dataframe tbody tr th:only-of-type {\n",
       "        vertical-align: middle;\n",
       "    }\n",
       "\n",
       "    .dataframe tbody tr th {\n",
       "        vertical-align: top;\n",
       "    }\n",
       "\n",
       "    .dataframe thead th {\n",
       "        text-align: right;\n",
       "    }\n",
       "</style>\n",
       "<table border=\"1\" class=\"dataframe\">\n",
       "  <thead>\n",
       "    <tr style=\"text-align: right;\">\n",
       "      <th></th>\n",
       "      <th>hit_id</th>\n",
       "      <th>tx</th>\n",
       "      <th>ty</th>\n",
       "      <th>tz</th>\n",
       "      <th>tpx</th>\n",
       "      <th>tpy</th>\n",
       "      <th>tpz</th>\n",
       "      <th>weight</th>\n",
       "      <th>particle_id</th>\n",
       "    </tr>\n",
       "  </thead>\n",
       "  <tbody>\n",
       "    <tr>\n",
       "      <th>0</th>\n",
       "      <td>1</td>\n",
       "      <td>7.08407</td>\n",
       "      <td>15.108000</td>\n",
       "      <td>-5.88552</td>\n",
       "      <td>0.830402</td>\n",
       "      <td>1.71179</td>\n",
       "      <td>-0.672612</td>\n",
       "      <td>0.0</td>\n",
       "      <td>10</td>\n",
       "    </tr>\n",
       "    <tr>\n",
       "      <th>1</th>\n",
       "      <td>2</td>\n",
       "      <td>7.44967</td>\n",
       "      <td>15.860600</td>\n",
       "      <td>-6.18132</td>\n",
       "      <td>0.832640</td>\n",
       "      <td>1.71078</td>\n",
       "      <td>-0.672359</td>\n",
       "      <td>0.0</td>\n",
       "      <td>10</td>\n",
       "    </tr>\n",
       "    <tr>\n",
       "      <th>2</th>\n",
       "      <td>3</td>\n",
       "      <td>7.84790</td>\n",
       "      <td>16.676901</td>\n",
       "      <td>-6.50209</td>\n",
       "      <td>0.835152</td>\n",
       "      <td>1.70969</td>\n",
       "      <td>-0.671927</td>\n",
       "      <td>0.0</td>\n",
       "      <td>10</td>\n",
       "    </tr>\n",
       "    <tr>\n",
       "      <th>3</th>\n",
       "      <td>4</td>\n",
       "      <td>8.24646</td>\n",
       "      <td>17.491501</td>\n",
       "      <td>-6.82236</td>\n",
       "      <td>0.837543</td>\n",
       "      <td>1.70842</td>\n",
       "      <td>-0.672095</td>\n",
       "      <td>0.0</td>\n",
       "      <td>10</td>\n",
       "    </tr>\n",
       "    <tr>\n",
       "      <th>4</th>\n",
       "      <td>5</td>\n",
       "      <td>8.61632</td>\n",
       "      <td>18.244200</td>\n",
       "      <td>-7.11861</td>\n",
       "      <td>0.839886</td>\n",
       "      <td>1.70727</td>\n",
       "      <td>-0.672058</td>\n",
       "      <td>0.0</td>\n",
       "      <td>10</td>\n",
       "    </tr>\n",
       "  </tbody>\n",
       "</table>\n",
       "</div>"
      ],
      "text/plain": [
       "   hit_id       tx         ty       tz       tpx      tpy       tpz  weight  \\\n",
       "0       1  7.08407  15.108000 -5.88552  0.830402  1.71179 -0.672612     0.0   \n",
       "1       2  7.44967  15.860600 -6.18132  0.832640  1.71078 -0.672359     0.0   \n",
       "2       3  7.84790  16.676901 -6.50209  0.835152  1.70969 -0.671927     0.0   \n",
       "3       4  8.24646  17.491501 -6.82236  0.837543  1.70842 -0.672095     0.0   \n",
       "4       5  8.61632  18.244200 -7.11861  0.839886  1.70727 -0.672058     0.0   \n",
       "\n",
       "   particle_id  \n",
       "0           10  \n",
       "1           10  \n",
       "2           10  \n",
       "3           10  \n",
       "4           10  "
      ]
     },
     "execution_count": 29,
     "metadata": {},
     "output_type": "execute_result"
    }
   ],
   "source": [
    "truth.head()"
   ]
  },
  {
   "cell_type": "markdown",
   "metadata": {},
   "source": [
    "### _Exploratory Data Analysis_"
   ]
  },
  {
   "cell_type": "code",
   "execution_count": 30,
   "metadata": {},
   "outputs": [],
   "source": [
    "# first drop skewed straws. later z-axis\n",
    "# hits.query('skewed==0').head()"
   ]
  },
  {
   "cell_type": "code",
   "execution_count": 31,
   "metadata": {},
   "outputs": [],
   "source": [
    "plt.style.use('ggplot')"
   ]
  },
  {
   "cell_type": "code",
   "execution_count": 32,
   "metadata": {},
   "outputs": [],
   "source": [
    "# truth_s = truth[['tx','ty','tz','tpx','tpy','tpz']]\n",
    "# _ = truth_s.hist(figsize = (8,8))"
   ]
  },
  {
   "cell_type": "code",
   "execution_count": 33,
   "metadata": {},
   "outputs": [],
   "source": [
    "# particles_s = particles[['px','py','pz']]\n",
    "# _ = particles_s.hist(figsize = (8,8))"
   ]
  },
  {
   "cell_type": "code",
   "execution_count": 35,
   "metadata": {},
   "outputs": [
    {
     "data": {
      "image/png": "[encoded data removed]",
      "text/plain": [
       "<Figure size 720x720 with 4 Axes>"
      ]
     },
     "metadata": {},
     "output_type": "display_data"
    }
   ],
   "source": [
    "# Pandas: Histogram\n",
    "hits_s = hits[['x', 'y', 'z']]\n",
    "_ = hits_s.hist(color='b', alpha=0.5, bins=50, figsize=(10,10))"
   ]
  },
  {
   "cell_type": "code",
   "execution_count": 44,
   "metadata": {},
   "outputs": [],
   "source": [
    "# Pandas: Box Plot\n",
    "# color = {'boxes': 'DarkGreen', 'whiskers': 'DarkOrange', 'medians': 'DarkBlue', 'caps': 'Gray'}\n",
    "# hits_s.plot.box(color=color, sym='r+', figsize=(10,10))"
   ]
  },
  {
   "cell_type": "code",
   "execution_count": 45,
   "metadata": {},
   "outputs": [],
   "source": [
    "# Pandas: Scatter Plot\n",
    "# hits_s.plot.scatter(x='x', y='y');"
   ]
  },
  {
   "cell_type": "code",
   "execution_count": 46,
   "metadata": {},
   "outputs": [],
   "source": [
    "# Pandas: Histogram Stacked\n",
    "# hits_s.plot.hist(stacked=True, bins=20, figsize=(10,10))"
   ]
  },
  {
   "cell_type": "code",
   "execution_count": 47,
   "metadata": {},
   "outputs": [],
   "source": [
    "# Pandas: Scatter Matrix:\n",
    "#_ = pd.scatter_matrix(hits_s, figsize=(12, 12), diagonal='hist')\n",
    "#_ = pd.plotting.scatter_matrix(hits_s,figsize=(12, 12), diagonal='kde')"
   ]
  },
  {
   "cell_type": "code",
   "execution_count": 48,
   "metadata": {},
   "outputs": [],
   "source": [
    "# Seaborn: Pair Plot\n",
    "# _ = sns.pairplot(hits_s)"
   ]
  },
  {
   "cell_type": "code",
   "execution_count": 49,
   "metadata": {},
   "outputs": [],
   "source": [
    "# Seaborn: Heatmap\n",
    "# plt.figure(figsize=(10,10))\n",
    "# _ = sns.heatmap(hits_s.corr(), annot=True,cmap ='RdYlGn')  # seaborn has very simple solution for heatmap"
   ]
  },
  {
   "cell_type": "code",
   "execution_count": 49,
   "metadata": {},
   "outputs": [
    {
     "data": {
      "image/png": "[encoded data removed]",
      "text/plain": [
       "<Figure size 576x576 with 3 Axes>"
      ]
     },
     "metadata": {},
     "output_type": "display_data"
    }
   ],
   "source": [
    "sns.jointplot(x=\"x\", y=\"y\", data=hits, alpha=0.5, height=8);"
   ]
  },
  {
   "cell_type": "code",
   "execution_count": null,
   "metadata": {},
   "outputs": [],
   "source": []
  }
 ],
 "metadata": {
  "kernelspec": {
   "display_name": "Python 3",
   "language": "python",
   "name": "python3"
  },
  "language_info": {
   "codemirror_mode": {
    "name": "ipython",
    "version": 3
   },
   "file_extension": ".py",
   "mimetype": "text/x-python",
   "name": "python",
   "nbconvert_exporter": "python",
   "pygments_lexer": "ipython3",
   "version": "3.8.6"
  }
 },
 "nbformat": 4,
 "nbformat_minor": 4
}
